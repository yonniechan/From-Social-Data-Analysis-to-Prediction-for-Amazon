{
 "cells": [
  {
   "cell_type": "code",
   "execution_count": 1,
   "metadata": {},
   "outputs": [],
   "source": [
    "import numpy as np\n",
    "import pandas as pd\n",
    "import networkx as nx\n",
    "from sklearn.preprocessing import MinMaxScaler\n",
    "from sklearn.impute import KNNImputer\n",
    "from sklearn.model_selection import train_test_split\n",
    "\n",
    "# visualization\n",
    "import matplotlib.pyplot as plt\n",
    "\n",
    "\n",
    "# model\n",
    "from sklearn.linear_model import RidgeCV\n",
    "from sklearn.svm import SVR\n",
    "from sklearn.tree import DecisionTreeRegressor\n",
    "from sklearn.ensemble import RandomForestRegressor\n",
    "from sklearn.ensemble import GradientBoostingRegressor\n",
    "import xgboost as xgb\n",
    "from sklearn.neighbors import KNeighborsRegressor\n",
    "from sklearn.ensemble import StackingRegressor\n",
    "from sklearn.model_selection import GridSearchCV\n",
    "from sklearn.metrics import mean_absolute_error\n"
   ]
  },
  {
   "cell_type": "markdown",
   "metadata": {},
   "source": [
    "# Part 1: Exploratory Social Network Analysis [30 Points]"
   ]
  },
  {
   "cell_type": "markdown",
   "metadata": {},
   "source": [
    "### 3. Perform some basic network analyses and briefly explain each of your findings [30 points]:\n"
   ]
  },
  {
   "cell_type": "markdown",
   "metadata": {},
   "source": [
    "(a) Load the directed network graph (G) from the file amazonNetwork.csv. [2 points]"
   ]
  },
  {
   "cell_type": "code",
   "execution_count": 2,
   "metadata": {},
   "outputs": [
    {
     "name": "stdout",
     "output_type": "stream",
     "text": [
      "Number of rows: 10841, Number of columns: 2\n"
     ]
    },
    {
     "data": {
      "text/html": [
       "<div>\n",
       "<style scoped>\n",
       "    .dataframe tbody tr th:only-of-type {\n",
       "        vertical-align: middle;\n",
       "    }\n",
       "\n",
       "    .dataframe tbody tr th {\n",
       "        vertical-align: top;\n",
       "    }\n",
       "\n",
       "    .dataframe thead th {\n",
       "        text-align: right;\n",
       "    }\n",
       "</style>\n",
       "<table border=\"1\" class=\"dataframe\">\n",
       "  <thead>\n",
       "    <tr style=\"text-align: right;\">\n",
       "      <th></th>\n",
       "      <th>FromNodeId</th>\n",
       "      <th>ToNodeId</th>\n",
       "    </tr>\n",
       "  </thead>\n",
       "  <tbody>\n",
       "    <tr>\n",
       "      <th>0</th>\n",
       "      <td>1</td>\n",
       "      <td>2</td>\n",
       "    </tr>\n",
       "    <tr>\n",
       "      <th>1</th>\n",
       "      <td>1</td>\n",
       "      <td>4</td>\n",
       "    </tr>\n",
       "    <tr>\n",
       "      <th>2</th>\n",
       "      <td>1</td>\n",
       "      <td>5</td>\n",
       "    </tr>\n",
       "    <tr>\n",
       "      <th>3</th>\n",
       "      <td>1</td>\n",
       "      <td>15</td>\n",
       "    </tr>\n",
       "    <tr>\n",
       "      <th>4</th>\n",
       "      <td>2</td>\n",
       "      <td>11</td>\n",
       "    </tr>\n",
       "  </tbody>\n",
       "</table>\n",
       "</div>"
      ],
      "text/plain": [
       "   FromNodeId  ToNodeId\n",
       "0           1         2\n",
       "1           1         4\n",
       "2           1         5\n",
       "3           1        15\n",
       "4           2        11"
      ]
     },
     "execution_count": 2,
     "metadata": {},
     "output_type": "execute_result"
    }
   ],
   "source": [
    "amazon_df = pd.read_csv('amazonNetwork.csv')\n",
    "print(\"Number of rows: {}, Number of columns: {}\".format(amazon_df.shape[0], amazon_df.shape[1]))\n",
    "amazon_df.head()"
   ]
  },
  {
   "cell_type": "code",
   "execution_count": 3,
   "metadata": {},
   "outputs": [
    {
     "data": {
      "text/plain": [
       "True"
      ]
     },
     "execution_count": 3,
     "metadata": {},
     "output_type": "execute_result"
    }
   ],
   "source": [
    "G = nx.from_pandas_edgelist(amazon_df, source='FromNodeId',target='ToNodeId', create_using=nx.DiGraph())\n",
    "nx.is_directed(G) # check, expect 'True'"
   ]
  },
  {
   "cell_type": "markdown",
   "metadata": {},
   "source": [
    "(b) How many items are present in the network and how many co-purchases happened? [7 points]"
   ]
  },
  {
   "cell_type": "code",
   "execution_count": 4,
   "metadata": {},
   "outputs": [
    {
     "name": "stdout",
     "output_type": "stream",
     "text": [
      "Number of items in the network: 2647\n",
      "NUmber of co-purchases: 10841\n"
     ]
    }
   ],
   "source": [
    "print(\"Number of items in the network:\", G.number_of_nodes())\n",
    "print(\"NUmber of co-purchases:\", G.number_of_edges())"
   ]
  },
  {
   "cell_type": "markdown",
   "metadata": {},
   "source": [
    "(c) Compute the average shortest distance between the nodes in graph G. Explain your results briefly. [7 points]"
   ]
  },
  {
   "cell_type": "code",
   "execution_count": 5,
   "metadata": {},
   "outputs": [
    {
     "name": "stdout",
     "output_type": "stream",
     "text": [
      "Average Shortest Path Length: 9.59\n"
     ]
    }
   ],
   "source": [
    "print(\"Average Shortest Path Length:\", round(nx.average_shortest_path_length(G), 2))"
   ]
  },
  {
   "cell_type": "markdown",
   "metadata": {},
   "source": [
    "In out graph G, the average shortest distance between the nmodes is 9.59\n",
    "This means to get from one node to another the shortest path possible, it need to go through 9.59 nodes.\n",
    "This shows that our network is not well-connected."
   ]
  },
  {
   "cell_type": "markdown",
   "metadata": {},
   "source": [
    "(d) Compute the transitivity and the average clustering coefficient of the network graph G. Explain your findings briefly based on the definitions of clustering coefficient and transitivity. [7 points]"
   ]
  },
  {
   "cell_type": "code",
   "execution_count": 6,
   "metadata": {},
   "outputs": [
    {
     "name": "stdout",
     "output_type": "stream",
     "text": [
      "Transitivity: 0.43\n",
      "Average clustering coefficient: 0.41\n"
     ]
    }
   ],
   "source": [
    "print(\"Transitivity:\", round(nx.transitivity(G), 2))\n",
    "print(\"Average clustering coefficient:\", round(nx.average_clustering(G), 2))"
   ]
  },
  {
   "cell_type": "markdown",
   "metadata": {},
   "source": [
    "Average clustering coefficient equals to 0.43 means the ratio of every node's neighbors that are connected to others is 0.43 on average.\n",
    "Transitivity equals to 0.41 means 0.41 of the two nodes have relations that are connected by an edge.\n",
    "Both Transitivity and Average clustering coefficient are not high enough, which means nodes between nodes are not well-connected."
   ]
  },
  {
   "cell_type": "markdown",
   "metadata": {},
   "source": [
    "(e) Apply the PageRank algorithm to network G with damping value 0.5 and find the\n",
    "10 nodes with the highest PageRank. Explain your findings briefly.\n",
    "NetworkX document of the PageRank algorithm: https://networkx.github.io/documentation/networkx-1.10/reference/generated/networkx.algorithms.link_analysis.pagerank_alg.pagerank.html [7 points]"
   ]
  },
  {
   "cell_type": "code",
   "execution_count": 7,
   "metadata": {},
   "outputs": [],
   "source": [
    "pg = nx.pagerank(G, alpha = 0.5)\n",
    "pg = {k:v for k, v in sorted(pg.items(), key=lambda t: t[1], reverse=True)}"
   ]
  },
  {
   "cell_type": "code",
   "execution_count": 8,
   "metadata": {},
   "outputs": [
    {
     "name": "stdout",
     "output_type": "stream",
     "text": [
      "1. 8\n",
      "2. 481\n",
      "3. 33\n",
      "4. 18\n",
      "5. 23\n",
      "6. 30\n",
      "7. 346\n",
      "8. 99\n",
      "9. 93\n",
      "10. 21\n"
     ]
    }
   ],
   "source": [
    "highest_pg = list(pg.keys())[0:10]\n",
    "count = 1\n",
    "for node in highest_pg:\n",
    "    print(\"{}. {}\".format(count, node))\n",
    "    count += 1"
   ]
  },
  {
   "cell_type": "markdown",
   "metadata": {},
   "source": [
    "# Part 2: Predicting Review-Rating using Features derived from network properties [50 Points]"
   ]
  },
  {
   "cell_type": "markdown",
   "metadata": {},
   "source": [
    "### Load Data"
   ]
  },
  {
   "cell_type": "code",
   "execution_count": 9,
   "metadata": {},
   "outputs": [],
   "source": [
    "training = pd.read_csv('reviewTrain.csv')\n",
    "testing = pd.read_csv('reviewTest.csv')"
   ]
  },
  {
   "cell_type": "markdown",
   "metadata": {},
   "source": [
    "### Data Preprocessing"
   ]
  },
  {
   "cell_type": "code",
   "execution_count": 10,
   "metadata": {},
   "outputs": [
    {
     "name": "stdout",
     "output_type": "stream",
     "text": [
      "Training set have 5 unique values, which are [' Book' ' Music' ' DVD' ' Video' ' Toy'].\n",
      "Testing set have 4 unique values, which are [' Book' ' Music' ' Video' ' DVD'].\n"
     ]
    }
   ],
   "source": [
    "print(\"Training set have {} unique values, which are {}.\".format(training['group'].nunique(), training['group'].unique()))\n",
    "print(\"Testing set have {} unique values, which are {}.\".format(testing['group'].nunique(), testing['group'].unique()))"
   ]
  },
  {
   "cell_type": "markdown",
   "metadata": {},
   "source": [
    "We found that \"toy\" group is only in training set. Because we are not going to predict the reviews in this group, I drop the records that are in 'toy' group."
   ]
  },
  {
   "cell_type": "code",
   "execution_count": 11,
   "metadata": {},
   "outputs": [],
   "source": [
    "training = training[training['group'] != \" Toy\"]"
   ]
  },
  {
   "cell_type": "code",
   "execution_count": 12,
   "metadata": {},
   "outputs": [
    {
     "data": {
      "text/html": [
       "<div>\n",
       "<style scoped>\n",
       "    .dataframe tbody tr th:only-of-type {\n",
       "        vertical-align: middle;\n",
       "    }\n",
       "\n",
       "    .dataframe tbody tr th {\n",
       "        vertical-align: top;\n",
       "    }\n",
       "\n",
       "    .dataframe thead th {\n",
       "        text-align: right;\n",
       "    }\n",
       "</style>\n",
       "<table border=\"1\" class=\"dataframe\">\n",
       "  <thead>\n",
       "    <tr style=\"text-align: right;\">\n",
       "      <th></th>\n",
       "      <th>id</th>\n",
       "      <th>title</th>\n",
       "      <th>group</th>\n",
       "    </tr>\n",
       "    <tr>\n",
       "      <th>review</th>\n",
       "      <th></th>\n",
       "      <th></th>\n",
       "      <th></th>\n",
       "    </tr>\n",
       "  </thead>\n",
       "  <tbody>\n",
       "    <tr>\n",
       "      <th>0.0</th>\n",
       "      <td>417</td>\n",
       "      <td>417</td>\n",
       "      <td>417</td>\n",
       "    </tr>\n",
       "    <tr>\n",
       "      <th>1.0</th>\n",
       "      <td>10</td>\n",
       "      <td>10</td>\n",
       "      <td>10</td>\n",
       "    </tr>\n",
       "    <tr>\n",
       "      <th>1.5</th>\n",
       "      <td>3</td>\n",
       "      <td>3</td>\n",
       "      <td>3</td>\n",
       "    </tr>\n",
       "    <tr>\n",
       "      <th>2.0</th>\n",
       "      <td>16</td>\n",
       "      <td>16</td>\n",
       "      <td>16</td>\n",
       "    </tr>\n",
       "    <tr>\n",
       "      <th>2.5</th>\n",
       "      <td>18</td>\n",
       "      <td>18</td>\n",
       "      <td>18</td>\n",
       "    </tr>\n",
       "    <tr>\n",
       "      <th>3.0</th>\n",
       "      <td>64</td>\n",
       "      <td>64</td>\n",
       "      <td>64</td>\n",
       "    </tr>\n",
       "    <tr>\n",
       "      <th>3.5</th>\n",
       "      <td>96</td>\n",
       "      <td>96</td>\n",
       "      <td>96</td>\n",
       "    </tr>\n",
       "    <tr>\n",
       "      <th>4.0</th>\n",
       "      <td>267</td>\n",
       "      <td>267</td>\n",
       "      <td>267</td>\n",
       "    </tr>\n",
       "    <tr>\n",
       "      <th>4.5</th>\n",
       "      <td>340</td>\n",
       "      <td>340</td>\n",
       "      <td>340</td>\n",
       "    </tr>\n",
       "    <tr>\n",
       "      <th>5.0</th>\n",
       "      <td>442</td>\n",
       "      <td>442</td>\n",
       "      <td>442</td>\n",
       "    </tr>\n",
       "  </tbody>\n",
       "</table>\n",
       "</div>"
      ],
      "text/plain": [
       "         id  title  group\n",
       "review                   \n",
       "0.0     417    417    417\n",
       "1.0      10     10     10\n",
       "1.5       3      3      3\n",
       "2.0      16     16     16\n",
       "2.5      18     18     18\n",
       "3.0      64     64     64\n",
       "3.5      96     96     96\n",
       "4.0     267    267    267\n",
       "4.5     340    340    340\n",
       "5.0     442    442    442"
      ]
     },
     "execution_count": 12,
     "metadata": {},
     "output_type": "execute_result"
    }
   ],
   "source": [
    "training.groupby('review').count()"
   ]
  },
  {
   "cell_type": "markdown",
   "metadata": {},
   "source": [
    "Since there is no case that review = 0, I tend to drop the records. \n",
    "\n",
    "Also, we observe most records have the review between 4.0 and 5.0 in the below dataframe, we could expect that the predict results would mostly lie in this range."
   ]
  },
  {
   "cell_type": "code",
   "execution_count": 13,
   "metadata": {},
   "outputs": [],
   "source": [
    "training = training[training['review'] != 0]"
   ]
  },
  {
   "cell_type": "markdown",
   "metadata": {},
   "source": [
    "#### Feature Engineering"
   ]
  },
  {
   "cell_type": "code",
   "execution_count": 14,
   "metadata": {},
   "outputs": [],
   "source": [
    "def add_feature(df):\n",
    "\n",
    "    # transform the group feature to dummy variables\n",
    "    cat_dummies = pd.get_dummies(df['group'])\n",
    "    df.drop(['group'], axis=1, inplace = True)\n",
    "    df = pd.concat([df, cat_dummies], axis=1)\n",
    "    \n",
    "    # add cluster coefficient from networkx\n",
    "    cluster_coeff = nx.clustering(G)\n",
    "    cluster_coeff_df = pd.DataFrame.from_dict({'id':list(cluster_coeff.keys()), 'cluster_coef':list(cluster_coeff.values())})\n",
    "    combined = pd.merge(df, cluster_coeff_df, on='id', how='left').reset_index(drop=True)\n",
    "    \n",
    "    # add page rank from networkx\n",
    "    pg_df = pd.DataFrame.from_dict({'id':list(pg.keys()), 'page_rank':list(pg.values())})\n",
    "    combined = pd.merge(combined, pg_df, on='id', how='left').reset_index(drop=True)\n",
    "    \n",
    "    # add degree centrality from networkx\n",
    "    dc = nx.degree_centrality(G)\n",
    "    dc_df = pd.DataFrame.from_dict({'id':list(dc.keys()), 'degree_centrality':list(dc.values())})\n",
    "    combined = pd.merge(combined, dc_df, on='id', how='left').reset_index(drop=True)\n",
    "\n",
    "    # add closeness centralityt from networkx\n",
    "    cc = nx.closeness_centrality(G)\n",
    "    cc_df = pd.DataFrame.from_dict({'id':list(cc.keys()), 'closeness_centrality':list(cc.values())})\n",
    "    combined = pd.merge(combined, cc_df, on='id', how='left').reset_index(drop=True)\n",
    "    \n",
    "    # add betweenness centrality from networkx\n",
    "    bc = nx.betweenness_centrality(G)\n",
    "    bc_df = pd.DataFrame.from_dict({'id':list(bc.keys()), 'betweenness_centrality':list(bc.values())})\n",
    "    combined = pd.merge(combined, bc_df, on='id', how='left').reset_index(drop=True)\n",
    "\n",
    "    return combined"
   ]
  },
  {
   "cell_type": "code",
   "execution_count": 15,
   "metadata": {},
   "outputs": [],
   "source": [
    "training_df = add_feature(training)\n",
    "testing_df = add_feature(testing)"
   ]
  },
  {
   "cell_type": "code",
   "execution_count": 16,
   "metadata": {},
   "outputs": [
    {
     "data": {
      "text/html": [
       "<div>\n",
       "<style scoped>\n",
       "    .dataframe tbody tr th:only-of-type {\n",
       "        vertical-align: middle;\n",
       "    }\n",
       "\n",
       "    .dataframe tbody tr th {\n",
       "        vertical-align: top;\n",
       "    }\n",
       "\n",
       "    .dataframe thead th {\n",
       "        text-align: right;\n",
       "    }\n",
       "</style>\n",
       "<table border=\"1\" class=\"dataframe\">\n",
       "  <thead>\n",
       "    <tr style=\"text-align: right;\">\n",
       "      <th></th>\n",
       "      <th>id</th>\n",
       "      <th>review</th>\n",
       "      <th>Book</th>\n",
       "      <th>DVD</th>\n",
       "      <th>Music</th>\n",
       "      <th>Video</th>\n",
       "      <th>cluster_coef</th>\n",
       "      <th>page_rank</th>\n",
       "      <th>degree_centrality</th>\n",
       "      <th>closeness_centrality</th>\n",
       "      <th>betweenness_centrality</th>\n",
       "    </tr>\n",
       "  </thead>\n",
       "  <tbody>\n",
       "    <tr>\n",
       "      <th>id</th>\n",
       "      <td>1.000000</td>\n",
       "      <td>0.050928</td>\n",
       "      <td>0.012803</td>\n",
       "      <td>-0.004498</td>\n",
       "      <td>-0.002179</td>\n",
       "      <td>-0.018410</td>\n",
       "      <td>0.217940</td>\n",
       "      <td>-0.353181</td>\n",
       "      <td>-0.465063</td>\n",
       "      <td>-0.436476</td>\n",
       "      <td>-0.323589</td>\n",
       "    </tr>\n",
       "    <tr>\n",
       "      <th>review</th>\n",
       "      <td>0.050928</td>\n",
       "      <td>1.000000</td>\n",
       "      <td>-0.048142</td>\n",
       "      <td>-0.109306</td>\n",
       "      <td>0.116626</td>\n",
       "      <td>-0.012932</td>\n",
       "      <td>-0.016068</td>\n",
       "      <td>-0.031606</td>\n",
       "      <td>-0.038316</td>\n",
       "      <td>-0.023810</td>\n",
       "      <td>0.023075</td>\n",
       "    </tr>\n",
       "    <tr>\n",
       "      <th>Book</th>\n",
       "      <td>0.012803</td>\n",
       "      <td>-0.048142</td>\n",
       "      <td>1.000000</td>\n",
       "      <td>-0.322503</td>\n",
       "      <td>-0.775840</td>\n",
       "      <td>-0.348341</td>\n",
       "      <td>-0.018023</td>\n",
       "      <td>-0.003463</td>\n",
       "      <td>-0.010931</td>\n",
       "      <td>-0.014172</td>\n",
       "      <td>0.005150</td>\n",
       "    </tr>\n",
       "    <tr>\n",
       "      <th>DVD</th>\n",
       "      <td>-0.004498</td>\n",
       "      <td>-0.109306</td>\n",
       "      <td>-0.322503</td>\n",
       "      <td>1.000000</td>\n",
       "      <td>-0.114365</td>\n",
       "      <td>-0.051348</td>\n",
       "      <td>0.027253</td>\n",
       "      <td>0.016451</td>\n",
       "      <td>0.026500</td>\n",
       "      <td>0.048840</td>\n",
       "      <td>-0.011951</td>\n",
       "    </tr>\n",
       "    <tr>\n",
       "      <th>Music</th>\n",
       "      <td>-0.002179</td>\n",
       "      <td>0.116626</td>\n",
       "      <td>-0.775840</td>\n",
       "      <td>-0.114365</td>\n",
       "      <td>1.000000</td>\n",
       "      <td>-0.123528</td>\n",
       "      <td>0.024123</td>\n",
       "      <td>-0.009678</td>\n",
       "      <td>-0.014757</td>\n",
       "      <td>-0.006973</td>\n",
       "      <td>-0.000258</td>\n",
       "    </tr>\n",
       "    <tr>\n",
       "      <th>Video</th>\n",
       "      <td>-0.018410</td>\n",
       "      <td>-0.012932</td>\n",
       "      <td>-0.348341</td>\n",
       "      <td>-0.051348</td>\n",
       "      <td>-0.123528</td>\n",
       "      <td>1.000000</td>\n",
       "      <td>-0.032126</td>\n",
       "      <td>0.009665</td>\n",
       "      <td>0.025107</td>\n",
       "      <td>-0.003111</td>\n",
       "      <td>0.000880</td>\n",
       "    </tr>\n",
       "    <tr>\n",
       "      <th>cluster_coef</th>\n",
       "      <td>0.217940</td>\n",
       "      <td>-0.016068</td>\n",
       "      <td>-0.018023</td>\n",
       "      <td>0.027253</td>\n",
       "      <td>0.024123</td>\n",
       "      <td>-0.032126</td>\n",
       "      <td>1.000000</td>\n",
       "      <td>-0.171803</td>\n",
       "      <td>-0.123259</td>\n",
       "      <td>-0.157367</td>\n",
       "      <td>-0.268268</td>\n",
       "    </tr>\n",
       "    <tr>\n",
       "      <th>page_rank</th>\n",
       "      <td>-0.353181</td>\n",
       "      <td>-0.031606</td>\n",
       "      <td>-0.003463</td>\n",
       "      <td>0.016451</td>\n",
       "      <td>-0.009678</td>\n",
       "      <td>0.009665</td>\n",
       "      <td>-0.171803</td>\n",
       "      <td>1.000000</td>\n",
       "      <td>0.895854</td>\n",
       "      <td>0.400162</td>\n",
       "      <td>0.597566</td>\n",
       "    </tr>\n",
       "    <tr>\n",
       "      <th>degree_centrality</th>\n",
       "      <td>-0.465063</td>\n",
       "      <td>-0.038316</td>\n",
       "      <td>-0.010931</td>\n",
       "      <td>0.026500</td>\n",
       "      <td>-0.014757</td>\n",
       "      <td>0.025107</td>\n",
       "      <td>-0.123259</td>\n",
       "      <td>0.895854</td>\n",
       "      <td>1.000000</td>\n",
       "      <td>0.360077</td>\n",
       "      <td>0.544591</td>\n",
       "    </tr>\n",
       "    <tr>\n",
       "      <th>closeness_centrality</th>\n",
       "      <td>-0.436476</td>\n",
       "      <td>-0.023810</td>\n",
       "      <td>-0.014172</td>\n",
       "      <td>0.048840</td>\n",
       "      <td>-0.006973</td>\n",
       "      <td>-0.003111</td>\n",
       "      <td>-0.157367</td>\n",
       "      <td>0.400162</td>\n",
       "      <td>0.360077</td>\n",
       "      <td>1.000000</td>\n",
       "      <td>0.373329</td>\n",
       "    </tr>\n",
       "    <tr>\n",
       "      <th>betweenness_centrality</th>\n",
       "      <td>-0.323589</td>\n",
       "      <td>0.023075</td>\n",
       "      <td>0.005150</td>\n",
       "      <td>-0.011951</td>\n",
       "      <td>-0.000258</td>\n",
       "      <td>0.000880</td>\n",
       "      <td>-0.268268</td>\n",
       "      <td>0.597566</td>\n",
       "      <td>0.544591</td>\n",
       "      <td>0.373329</td>\n",
       "      <td>1.000000</td>\n",
       "    </tr>\n",
       "  </tbody>\n",
       "</table>\n",
       "</div>"
      ],
      "text/plain": [
       "                              id    review      Book       DVD     Music  \\\n",
       "id                      1.000000  0.050928  0.012803 -0.004498 -0.002179   \n",
       "review                  0.050928  1.000000 -0.048142 -0.109306  0.116626   \n",
       " Book                   0.012803 -0.048142  1.000000 -0.322503 -0.775840   \n",
       " DVD                   -0.004498 -0.109306 -0.322503  1.000000 -0.114365   \n",
       " Music                 -0.002179  0.116626 -0.775840 -0.114365  1.000000   \n",
       " Video                 -0.018410 -0.012932 -0.348341 -0.051348 -0.123528   \n",
       "cluster_coef            0.217940 -0.016068 -0.018023  0.027253  0.024123   \n",
       "page_rank              -0.353181 -0.031606 -0.003463  0.016451 -0.009678   \n",
       "degree_centrality      -0.465063 -0.038316 -0.010931  0.026500 -0.014757   \n",
       "closeness_centrality   -0.436476 -0.023810 -0.014172  0.048840 -0.006973   \n",
       "betweenness_centrality -0.323589  0.023075  0.005150 -0.011951 -0.000258   \n",
       "\n",
       "                           Video  cluster_coef  page_rank  degree_centrality  \\\n",
       "id                     -0.018410      0.217940  -0.353181          -0.465063   \n",
       "review                 -0.012932     -0.016068  -0.031606          -0.038316   \n",
       " Book                  -0.348341     -0.018023  -0.003463          -0.010931   \n",
       " DVD                   -0.051348      0.027253   0.016451           0.026500   \n",
       " Music                 -0.123528      0.024123  -0.009678          -0.014757   \n",
       " Video                  1.000000     -0.032126   0.009665           0.025107   \n",
       "cluster_coef           -0.032126      1.000000  -0.171803          -0.123259   \n",
       "page_rank               0.009665     -0.171803   1.000000           0.895854   \n",
       "degree_centrality       0.025107     -0.123259   0.895854           1.000000   \n",
       "closeness_centrality   -0.003111     -0.157367   0.400162           0.360077   \n",
       "betweenness_centrality  0.000880     -0.268268   0.597566           0.544591   \n",
       "\n",
       "                        closeness_centrality  betweenness_centrality  \n",
       "id                                 -0.436476               -0.323589  \n",
       "review                             -0.023810                0.023075  \n",
       " Book                              -0.014172                0.005150  \n",
       " DVD                                0.048840               -0.011951  \n",
       " Music                             -0.006973               -0.000258  \n",
       " Video                             -0.003111                0.000880  \n",
       "cluster_coef                       -0.157367               -0.268268  \n",
       "page_rank                           0.400162                0.597566  \n",
       "degree_centrality                   0.360077                0.544591  \n",
       "closeness_centrality                1.000000                0.373329  \n",
       "betweenness_centrality              0.373329                1.000000  "
      ]
     },
     "execution_count": 16,
     "metadata": {},
     "output_type": "execute_result"
    }
   ],
   "source": [
    "training_df.corr()"
   ]
  },
  {
   "cell_type": "markdown",
   "metadata": {},
   "source": [
    "From correlation matrix, it is obvious that every feature we generate(cluster_coef, page_rank, degree_centrality, closeness_centrality, betweenness_centrality) have either positive or negative correlation with the independent variable review. This means the values of these features would slightly influence the value of review. Thus, we tend to add those features in the model."
   ]
  },
  {
   "cell_type": "code",
   "execution_count": 17,
   "metadata": {},
   "outputs": [],
   "source": [
    "def extract_features(df):\n",
    "    df_ = df.drop(['id', 'title'], axis = 1)\n",
    "    return df_"
   ]
  },
  {
   "cell_type": "code",
   "execution_count": 18,
   "metadata": {},
   "outputs": [],
   "source": [
    "training = extract_features(training_df)\n",
    "testing = extract_features(testing_df)"
   ]
  },
  {
   "cell_type": "markdown",
   "metadata": {},
   "source": [
    "### Prepare Data for Training, Validating, and Testing"
   ]
  },
  {
   "cell_type": "code",
   "execution_count": 19,
   "metadata": {},
   "outputs": [],
   "source": [
    "X_training = training.iloc[:, 1:]\n",
    "y_training = training.iloc[:, 0]\n",
    "\n",
    "X_testing = testing.iloc[:, 1:]\n",
    "y_testing = testing.iloc[:, 0]"
   ]
  },
  {
   "cell_type": "code",
   "execution_count": 20,
   "metadata": {},
   "outputs": [],
   "source": [
    "scaler = MinMaxScaler()\n",
    "X_train_scaled = scaler.fit_transform(X_training)\n",
    "X_test_scaled = scaler.transform(X_testing)"
   ]
  },
  {
   "cell_type": "code",
   "execution_count": 21,
   "metadata": {},
   "outputs": [],
   "source": [
    "# deal with the missing values that don't have network records in amazonNetwork.csv\n",
    "imputer = KNNImputer(n_neighbors=5)\n",
    "X_train_imputed = imputer.fit_transform(X_train_scaled)\n",
    "X_test_imputed = imputer.fit_transform(X_test_scaled)"
   ]
  },
  {
   "cell_type": "code",
   "execution_count": 22,
   "metadata": {},
   "outputs": [],
   "source": [
    "x_train, x_valid, y_train, y_valid = train_test_split(X_train_imputed, y_training, test_size= 0.2, stratify=y_training)"
   ]
  },
  {
   "cell_type": "markdown",
   "metadata": {},
   "source": [
    "### Model Selection"
   ]
  },
  {
   "cell_type": "code",
   "execution_count": 23,
   "metadata": {},
   "outputs": [
    {
     "name": "stdout",
     "output_type": "stream",
     "text": [
      "RidgeCV(alphas=array([ 0.1,  1. , 10. ])) MAE: 0.5810976680173737\n",
      "SVR() MAE: 0.5729324469136936\n",
      "KNeighborsRegressor() MAE: 0.6142857142857143\n",
      "DecisionTreeRegressor() MAE: 0.6904761904761905\n",
      "RandomForestRegressor() MAE: 0.5913614537565867\n",
      "GradientBoostingRegressor() MAE: 0.5880375531094428\n",
      "XGBRegressor(base_score=0.5, booster='gbtree', callbacks=None,\n",
      "             colsample_bylevel=1, colsample_bynode=1, colsample_bytree=1,\n",
      "             early_stopping_rounds=None, enable_categorical=False,\n",
      "             eval_metric=None, gamma=0, gpu_id=-1, grow_policy='depthwise',\n",
      "             importance_type=None, interaction_constraints='',\n",
      "             learning_rate=0.300000012, max_bin=256, max_cat_to_onehot=4,\n",
      "             max_delta_step=0, max_depth=6, max_leaves=0, min_child_weight=1,\n",
      "             missing=nan, monotone_constraints='()', n_estimators=100, n_jobs=0,\n",
      "             num_parallel_tree=1, predictor='auto', random_state=0, reg_alpha=0,\n",
      "             reg_lambda=1, ...) MAE: 0.6460331470247299\n"
     ]
    }
   ],
   "source": [
    "models = [ RidgeCV(), SVR(), KNeighborsRegressor(), DecisionTreeRegressor(), RandomForestRegressor(), GradientBoostingRegressor(), xgb.XGBRegressor()]\n",
    "\n",
    "for ml in models:\n",
    "    \n",
    "    ### train\n",
    "    ml.fit(x_train, y_train)\n",
    "    \n",
    "    ### predict\n",
    "    y_pred = ml.predict(x_valid)\n",
    "    \n",
    "    ### MAE\n",
    "    print(ml, \"MAE:\", mean_absolute_error(y_valid, y_pred))\n",
    "    \n",
    "    # ### feature\n",
    "    # importance = ml.feature_importances_\n",
    "    # for i,v in enumerate(importance):\n",
    "    #     print('Feature: %0d, Score: %.5f' % (i,v))\n",
    "    #     # plot feature importance\n",
    "    # plt.bar([x for x in range(len(importance))], importance)\n",
    "    # plt.show()\n",
    "    "
   ]
  },
  {
   "cell_type": "markdown",
   "metadata": {},
   "source": [
    "### Hyperparameter Tuning using GridSearch"
   ]
  },
  {
   "cell_type": "code",
   "execution_count": 24,
   "metadata": {},
   "outputs": [
    {
     "name": "stdout",
     "output_type": "stream",
     "text": [
      "best_parameters:  {'C': 1, 'gamma': 1, 'kernel': 'rbf'}\n",
      "best_model_score:  -0.5729391697167704\n"
     ]
    }
   ],
   "source": [
    "params = {'C': [0.1, 1, 10, 100, 1000],\n",
    "          'gamma': [1, 0.1, 0.01, 0.001, 0.0001],\n",
    "          'kernel': ['rbf']\n",
    "          }\n",
    "\n",
    "model = SVR()\n",
    "\n",
    "grid_search = GridSearchCV(\n",
    "    estimator = model,\n",
    "    param_grid = params,\n",
    "    scoring = \"neg_mean_absolute_error\",\n",
    ")\n",
    "grid_search.fit(x_train, y_train)\n",
    "\n",
    "svr_best_params = grid_search.best_params_\n",
    "print(\"best_parameters: \", svr_best_params)\n",
    "print(\"best_model_score: \", grid_search.score(x_valid, y_valid))"
   ]
  },
  {
   "cell_type": "code",
   "execution_count": 25,
   "metadata": {},
   "outputs": [
    {
     "name": "stdout",
     "output_type": "stream",
     "text": [
      "best_parameters:  {'leaf_size': 10, 'n_neighbors': 20, 'p': 1, 'weights': 'uniform'}\n",
      "best_model_score:  -0.5868055555555556\n"
     ]
    }
   ],
   "source": [
    "params = {'n_neighbors': [7, 11, 20],\n",
    "          'weights': ['uniform', 'distance'],\n",
    "          'leaf_size': [10, 30, 50, 70, 90],\n",
    "          'p': [1, 2, 3, 4]\n",
    "          }\n",
    "\n",
    "model = KNeighborsRegressor()\n",
    "\n",
    "grid_search = GridSearchCV(\n",
    "    estimator = model,\n",
    "    param_grid = params,\n",
    "    scoring = \"neg_mean_absolute_error\",\n",
    ")\n",
    "grid_search.fit(x_train, y_train)\n",
    "\n",
    "knn_best_params = grid_search.best_params_\n",
    "print(\"best_parameters: \", knn_best_params)\n",
    "print(\"best_model_score: \", grid_search.score(x_valid, y_valid))"
   ]
  },
  {
   "cell_type": "code",
   "execution_count": 26,
   "metadata": {},
   "outputs": [
    {
     "name": "stdout",
     "output_type": "stream",
     "text": [
      "best_parameters:  {'learning_rate': 0.1, 'max_depth': 3, 'min_samples_leaf': 150, 'min_samples_split': 600, 'n_estimators': 100}\n",
      "best_model_score:  -0.5750956531068404\n"
     ]
    }
   ],
   "source": [
    "params = {'learning_rate': [0.1, 0.05, 0.001],\n",
    "          'n_estimators': range(50, 150, 50), \n",
    "        #   'subsample': [0.8, 1], \n",
    "          # 'criterion':'friedman_mse', \n",
    "          'min_samples_split': [600, 800, 1000, 1200], \n",
    "          'min_samples_leaf': [50, 100, 150],\n",
    "          # 'min_weight_fraction_leaf': 0.0, \n",
    "          'max_depth': range(3, 7, 1), # usually 5-8\n",
    "          # 'min_impurity_decrease': 0.0, \n",
    "          # 'max_features':None, \n",
    "          # 'alpha':0.9, \n",
    "          # 'verbose':0, \n",
    "          # 'max_leaf_nodes':None, \n",
    "          # 'warm_start':False, \n",
    "          # 'validation_fraction':0.1, \n",
    "          # 'n_iter_no_change':None, \n",
    "          # 'tol':0.0001,\n",
    "          # 'ccp_alpha':0.0\n",
    "          }\n",
    "\n",
    "model = GradientBoostingRegressor()\n",
    "\n",
    "grid_search = GridSearchCV(\n",
    "    estimator = model,\n",
    "    param_grid = params,\n",
    "    scoring = \"neg_mean_absolute_error\",\n",
    ")\n",
    "grid_search.fit(x_train, y_train)\n",
    "\n",
    "gb_best_params = grid_search.best_params_\n",
    "print(\"best_parameters: \", gb_best_params)\n",
    "print(\"best_model_score: \", grid_search.score(x_valid, y_valid))"
   ]
  },
  {
   "cell_type": "code",
   "execution_count": 27,
   "metadata": {},
   "outputs": [
    {
     "name": "stdout",
     "output_type": "stream",
     "text": [
      "best_parameters:  {'learning_rate': 0.1, 'max_depth': 3, 'n_estimators': 50, 'objective': 'reg:squarederror'}\n",
      "best_model_score:  -0.5837794807222154\n"
     ]
    }
   ],
   "source": [
    "params = {#'nthread':[4, 6], #when use hyperthread, xgboost may become slower\n",
    "          'objective':['reg:squarederror'],\n",
    "          'learning_rate': [0.001, 0.05, 0.1], #so called `eta` value\n",
    "          'max_depth': range(3, 7, 1),\n",
    "            #   'min_child_weight': [4],\n",
    "            #   'silent': [1],\n",
    "            #   'subsample': [0.7],\n",
    "            #   'colsample_bytree': [0.7],\n",
    "          'n_estimators': range(50, 150, 50)\n",
    "          }\n",
    "\n",
    "model = xgb.XGBRegressor()\n",
    "\n",
    "grid_search = GridSearchCV(\n",
    "    estimator = model,\n",
    "    param_grid = params,\n",
    "    scoring = \"neg_mean_absolute_error\",\n",
    ")\n",
    "grid_search.fit(x_train, y_train)\n",
    "\n",
    "xgb_best_params = grid_search.best_params_\n",
    "print(\"best_parameters: \", xgb_best_params)\n",
    "print(\"best_model_score: \", grid_search.score(x_valid, y_valid))"
   ]
  },
  {
   "cell_type": "markdown",
   "metadata": {},
   "source": [
    "### Final Model on Validation data"
   ]
  },
  {
   "cell_type": "code",
   "execution_count": 28,
   "metadata": {},
   "outputs": [
    {
     "name": "stdout",
     "output_type": "stream",
     "text": [
      "Stacking MAE: 0.5580953919987598\n"
     ]
    }
   ],
   "source": [
    "estimators = [\n",
    "    ('lr', RidgeCV()),\n",
    "    ('svr', SVR(**svr_best_params)),\n",
    "    ('knn', KNeighborsRegressor(**knn_best_params)), \n",
    "    ('rf', RandomForestRegressor()),\n",
    "    ('gb', GradientBoostingRegressor(**gb_best_params)), \n",
    "    ('xgb',xgb.XGBRegressor(**xgb_best_params)), \n",
    "] \n",
    "\n",
    "clf = StackingRegressor(\n",
    "    estimators = estimators,\n",
    "    final_estimator = SVR(**svr_best_params),\n",
    "    cv = 3\n",
    ")\n",
    "\n",
    "clf.fit(x_train, y_train)\n",
    "y_pred = clf.predict(x_valid)\n",
    "valid_store = mean_absolute_error(y_pred, y_valid)\n",
    "print(\"Stacking MAE:\", valid_store)"
   ]
  },
  {
   "cell_type": "code",
   "execution_count": 29,
   "metadata": {},
   "outputs": [
    {
     "data": {
      "image/png": "[encoded data removed]",
      "text/plain": [
       "<Figure size 432x288 with 1 Axes>"
      ]
     },
     "metadata": {
      "needs_background": "light"
     },
     "output_type": "display_data"
    }
   ],
   "source": [
    "plt.scatter(x = y_valid, y = y_pred)\n",
    "plt.xlabel(\"True value\")\n",
    "plt.ylabel(\"Predict value\")\n",
    "plt.show()"
   ]
  },
  {
   "cell_type": "markdown",
   "metadata": {},
   "source": [
    "### Predicting on testing data"
   ]
  },
  {
   "cell_type": "code",
   "execution_count": 30,
   "metadata": {},
   "outputs": [],
   "source": [
    "X_train = np.concatenate([x_train, x_valid], axis = 0)\n",
    "Y_train = np.concatenate([y_train, y_valid], axis = 0)\n",
    "clf.fit(X_train, Y_train)\n",
    "results = clf.predict(X_test_imputed)"
   ]
  },
  {
   "cell_type": "markdown",
   "metadata": {},
   "source": [
    "### Write to csv"
   ]
  },
  {
   "cell_type": "code",
   "execution_count": 31,
   "metadata": {},
   "outputs": [],
   "source": [
    "new_testing = pd.concat([pd.DataFrame(results, columns = [\"review\"]), testing], axis = 1).iloc[:, :-1]"
   ]
  },
  {
   "cell_type": "code",
   "execution_count": 32,
   "metadata": {},
   "outputs": [],
   "source": [
    "new_testing.to_csv('Amazon_reviews_prediction.csv')"
   ]
  }
 ],
 "metadata": {
  "kernelspec": {
   "display_name": "Python 3 (ipykernel)",
   "language": "python",
   "name": "python3"
  },
  "language_info": {
   "codemirror_mode": {
    "name": "ipython",
    "version": 3
   },
   "file_extension": ".py",
   "mimetype": "text/x-python",
   "name": "python",
   "nbconvert_exporter": "python",
   "pygments_lexer": "ipython3",
   "version": "3.9.12"
  },
  "vscode": {
   "interpreter": {
    "hash": "d7399c04398ef7ffe93a346b34aea79387e9589ac40b89ce439d1cc4615c19a9"
   }
  }
 },
 "nbformat": 4,
 "nbformat_minor": 2
}
